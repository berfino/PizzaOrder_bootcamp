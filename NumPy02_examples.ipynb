{
  "nbformat": 4,
  "nbformat_minor": 0,
  "metadata": {
    "colab": {
      "provenance": [],
      "authorship_tag": "ABX9TyMuhkm+MuX3XhxiOLsXDQBs",
      "include_colab_link": true
    },
    "kernelspec": {
      "name": "python3",
      "display_name": "Python 3"
    },
    "language_info": {
      "name": "python"
    }
  },
  "cells": [
    {
      "cell_type": "markdown",
      "metadata": {
        "id": "view-in-github",
        "colab_type": "text"
      },
      "source": [
        "<a href=\"https://colab.research.google.com/github/berfino/PizzaOrder_bootcamp/blob/main/NumPy02_examples.ipynb\" target=\"_parent\"><img src=\"https://colab.research.google.com/assets/colab-badge.svg\" alt=\"Open In Colab\"/></a>"
      ]
    },
    {
      "cell_type": "code",
      "execution_count": 1,
      "metadata": {
        "id": "GYOEGBeW9fq-"
      },
      "outputs": [],
      "source": [
        "import numpy as np "
      ]
    },
    {
      "cell_type": "markdown",
      "source": [
        "##0-29 arası(29 dahil, toplam 30 tam sayı) tam sayılardan oluşan bir boyutlu bir array oluşturun ardından bu array'in shape'ini (15,2) şeklinde güncelleyip 2 boyutlu hale getirin.\n"
      ],
      "metadata": {
        "id": "zSZChQM0DyGs"
      }
    },
    {
      "cell_type": "code",
      "source": [
        "np.arange(0,30).reshape(6,5)"
      ],
      "metadata": {
        "colab": {
          "base_uri": "https://localhost:8080/"
        },
        "id": "rSle77QJ-kCM",
        "outputId": "478f4737-0196-4cb3-bd0a-f4c84e80222a"
      },
      "execution_count": 38,
      "outputs": [
        {
          "output_type": "execute_result",
          "data": {
            "text/plain": [
              "array([[ 0,  1,  2,  3,  4],\n",
              "       [ 5,  6,  7,  8,  9],\n",
              "       [10, 11, 12, 13, 14],\n",
              "       [15, 16, 17, 18, 19],\n",
              "       [20, 21, 22, 23, 24],\n",
              "       [25, 26, 27, 28, 29]])"
            ]
          },
          "metadata": {},
          "execution_count": 38
        }
      ]
    },
    {
      "cell_type": "markdown",
      "source": [
        "##60 adet rastgele tam sayı verilerinden oluşan bir boyutlu bir array oluşturun. Devamında bu array'i istediğiniz shapelerde 3 boyutlu hale getirin ve son durumda oluşan array'in boyutunu ve shape'ini kontrol edin.\n",
        "\n"
      ],
      "metadata": {
        "id": "KRNkr32XDvZ4"
      }
    },
    {
      "cell_type": "code",
      "source": [
        "array = np.random.randint(10,100,60)\n",
        "array"
      ],
      "metadata": {
        "colab": {
          "base_uri": "https://localhost:8080/"
        },
        "id": "_QfnZP6R-sqB",
        "outputId": "8d5e1cb9-2ca8-4249-85c7-b261a2b54a22"
      },
      "execution_count": 39,
      "outputs": [
        {
          "output_type": "execute_result",
          "data": {
            "text/plain": [
              "array([39, 58, 33, 58, 50, 47, 69, 56, 17, 30, 29, 64, 25, 85, 81, 47, 41,\n",
              "       42, 19, 45, 30, 61, 13, 61, 64, 19, 56, 36, 59, 14, 15, 95, 37, 98,\n",
              "       22, 36, 15, 85, 66, 76, 22, 92, 37, 69, 55, 85, 65, 90, 99, 11, 16,\n",
              "       60, 53, 62, 28, 78, 73, 63, 10, 86])"
            ]
          },
          "metadata": {},
          "execution_count": 39
        }
      ]
    },
    {
      "cell_type": "code",
      "source": [
        "arr3d = array.reshape(2,2,-1)\n",
        "arr3d"
      ],
      "metadata": {
        "colab": {
          "base_uri": "https://localhost:8080/"
        },
        "id": "23AgkBe0_7Ww",
        "outputId": "6e61b4f7-5772-4b8f-868a-f86c323e2184"
      },
      "execution_count": 18,
      "outputs": [
        {
          "output_type": "execute_result",
          "data": {
            "text/plain": [
              "array([[[14, 29, 52, 88, 11, 95, 50, 39, 67, 93, 27, 22, 48, 22, 82],\n",
              "        [33, 55, 29, 14, 43, 69, 80, 43, 38, 29, 76, 71, 22, 22, 11]],\n",
              "\n",
              "       [[50, 50, 76, 67, 13, 21, 32, 35, 48, 15, 59, 72, 79, 81, 57],\n",
              "        [81, 37, 45, 90, 65, 53, 45, 26, 73, 61, 83, 89, 23, 16, 34]]])"
            ]
          },
          "metadata": {},
          "execution_count": 18
        }
      ]
    },
    {
      "cell_type": "code",
      "source": [
        "arr3d.ndim"
      ],
      "metadata": {
        "colab": {
          "base_uri": "https://localhost:8080/"
        },
        "id": "6tljxWzsADkt",
        "outputId": "b0b5b8c5-3ff7-428e-e544-b72e7bde782c"
      },
      "execution_count": 19,
      "outputs": [
        {
          "output_type": "execute_result",
          "data": {
            "text/plain": [
              "3"
            ]
          },
          "metadata": {},
          "execution_count": 19
        }
      ]
    },
    {
      "cell_type": "code",
      "source": [
        "arr3d.shape"
      ],
      "metadata": {
        "colab": {
          "base_uri": "https://localhost:8080/"
        },
        "id": "TGWIm6FaApHE",
        "outputId": "1cc323e8-7960-4158-b649-e14b9572cc2a"
      },
      "execution_count": 40,
      "outputs": [
        {
          "output_type": "execute_result",
          "data": {
            "text/plain": [
              "(2, 2, 15)"
            ]
          },
          "metadata": {},
          "execution_count": 40
        }
      ]
    },
    {
      "cell_type": "markdown",
      "source": [
        "##20 elemanlı ve sadece rakamlardan oluşan iki boyutlu bir array oluşturun. Ardından bu array'i düzleştirin ve tek boyutlu hale getirin ve son durumda oluşan array'in boyutunu ve shape'ini kontrol edin.\n"
      ],
      "metadata": {
        "id": "NVK7Jp72DlTL"
      }
    },
    {
      "cell_type": "code",
      "source": [
        "arr2d = np.random.randint(0,10,size=(2,10))\n",
        "arr2d"
      ],
      "metadata": {
        "colab": {
          "base_uri": "https://localhost:8080/"
        },
        "id": "wTKmv2zXA1Ay",
        "outputId": "626e2bdd-8630-45cc-8172-03a0a034fabd"
      },
      "execution_count": 29,
      "outputs": [
        {
          "output_type": "execute_result",
          "data": {
            "text/plain": [
              "array([[5, 3, 0, 7, 3, 3, 2, 0, 0, 4],\n",
              "       [4, 3, 5, 9, 2, 9, 1, 4, 0, 0]])"
            ]
          },
          "metadata": {},
          "execution_count": 29
        }
      ]
    },
    {
      "cell_type": "code",
      "source": [
        "arr = arr2d.reshape(-1)\n",
        "arr"
      ],
      "metadata": {
        "colab": {
          "base_uri": "https://localhost:8080/"
        },
        "id": "fyMuKO14BTuu",
        "outputId": "85e843b8-74dd-4060-8001-322a112d615b"
      },
      "execution_count": 35,
      "outputs": [
        {
          "output_type": "execute_result",
          "data": {
            "text/plain": [
              "array([5, 3, 0, 7, 3, 3, 2, 0, 0, 4, 4, 3, 5, 9, 2, 9, 1, 4, 0, 0])"
            ]
          },
          "metadata": {},
          "execution_count": 35
        }
      ]
    },
    {
      "cell_type": "code",
      "source": [
        "arr.ndim"
      ],
      "metadata": {
        "colab": {
          "base_uri": "https://localhost:8080/"
        },
        "id": "KDIe5iCgCRDF",
        "outputId": "01e8216d-fce4-4b5d-e2e7-cba1737b586c"
      },
      "execution_count": 36,
      "outputs": [
        {
          "output_type": "execute_result",
          "data": {
            "text/plain": [
              "1"
            ]
          },
          "metadata": {},
          "execution_count": 36
        }
      ]
    },
    {
      "cell_type": "code",
      "source": [
        "arr.shape"
      ],
      "metadata": {
        "colab": {
          "base_uri": "https://localhost:8080/"
        },
        "id": "wkiVg3hkCe4G",
        "outputId": "f1b5ab9a-887d-4ca8-dc02-feec1abb43a6"
      },
      "execution_count": 37,
      "outputs": [
        {
          "output_type": "execute_result",
          "data": {
            "text/plain": [
              "(20,)"
            ]
          },
          "metadata": {},
          "execution_count": 37
        }
      ]
    },
    {
      "cell_type": "markdown",
      "source": [
        "##İstediğiniz herhangi elemanlardan oluşan 2 Boyutlu bir array oluşturun. Oluşturduğunuz bu 2 boyutlu array'in içindeki bütün elemanları hem yavaş yol olan for döngüsüyle hem de daha hızlı yol olan uygun NumPy metoduyla tek tek dönerek ekrana yazdırın.\n"
      ],
      "metadata": {
        "id": "HcVjTXP3DcT0"
      }
    },
    {
      "cell_type": "code",
      "source": [
        "arr2d = np.random.randint(10,30,size=(5,6))\n",
        "arr2d"
      ],
      "metadata": {
        "colab": {
          "base_uri": "https://localhost:8080/"
        },
        "id": "3_bsl8X-Cf0G",
        "outputId": "190e8ea6-5e04-4f16-b134-1d8fd3b4d8a4"
      },
      "execution_count": 42,
      "outputs": [
        {
          "output_type": "execute_result",
          "data": {
            "text/plain": [
              "array([[10, 21, 22, 26, 18, 17],\n",
              "       [11, 23, 24, 28, 24, 19],\n",
              "       [24, 12, 28, 20, 14, 24],\n",
              "       [28, 26, 19, 20, 21, 20],\n",
              "       [25, 11, 23, 22, 19, 17]])"
            ]
          },
          "metadata": {},
          "execution_count": 42
        }
      ]
    },
    {
      "cell_type": "code",
      "source": [
        "for i in arr2d:\n",
        "  for x in i:\n",
        "    print(x)"
      ],
      "metadata": {
        "colab": {
          "base_uri": "https://localhost:8080/"
        },
        "id": "goqiuOZMC1SA",
        "outputId": "8a1cd99d-fc62-4a74-91f4-8a8ff075da4f"
      },
      "execution_count": 43,
      "outputs": [
        {
          "output_type": "stream",
          "name": "stdout",
          "text": [
            "10\n",
            "21\n",
            "22\n",
            "26\n",
            "18\n",
            "17\n",
            "11\n",
            "23\n",
            "24\n",
            "28\n",
            "24\n",
            "19\n",
            "24\n",
            "12\n",
            "28\n",
            "20\n",
            "14\n",
            "24\n",
            "28\n",
            "26\n",
            "19\n",
            "20\n",
            "21\n",
            "20\n",
            "25\n",
            "11\n",
            "23\n",
            "22\n",
            "19\n",
            "17\n"
          ]
        }
      ]
    },
    {
      "cell_type": "code",
      "source": [
        "for i in np.nditer(arr2d):\n",
        "  print(i)"
      ],
      "metadata": {
        "colab": {
          "base_uri": "https://localhost:8080/"
        },
        "id": "GK73-hgtDNly",
        "outputId": "a406fa85-485d-4f93-ecbd-92662c8e04bf"
      },
      "execution_count": 44,
      "outputs": [
        {
          "output_type": "stream",
          "name": "stdout",
          "text": [
            "10\n",
            "21\n",
            "22\n",
            "26\n",
            "18\n",
            "17\n",
            "11\n",
            "23\n",
            "24\n",
            "28\n",
            "24\n",
            "19\n",
            "24\n",
            "12\n",
            "28\n",
            "20\n",
            "14\n",
            "24\n",
            "28\n",
            "26\n",
            "19\n",
            "20\n",
            "21\n",
            "20\n",
            "25\n",
            "11\n",
            "23\n",
            "22\n",
            "19\n",
            "17\n"
          ]
        }
      ]
    },
    {
      "cell_type": "markdown",
      "source": [
        "##5,10,15,20,25,30 değerlerinden oluşan bir boyutlu bir array ve 1,2,3,4,5,6 değerlerinden oluşan başka bir boyutlu bir array oluşturun.Bu arraylerinin elemanlarına kendi aralarında 4 işlem uygulayın. İki arrayinde 1.indexindekiler toplansın/çıkartılsın/çarpılsın/bölünsün gibi."
      ],
      "metadata": {
        "id": "raGXxWE5EBto"
      }
    },
    {
      "cell_type": "code",
      "source": [
        "arr1 = np.arange(5,31,5)\n",
        "arr1"
      ],
      "metadata": {
        "colab": {
          "base_uri": "https://localhost:8080/"
        },
        "id": "t_tta65JDY8W",
        "outputId": "b668fe18-67e4-4373-c9df-ebd5effbfe55"
      },
      "execution_count": 48,
      "outputs": [
        {
          "output_type": "execute_result",
          "data": {
            "text/plain": [
              "array([ 5, 10, 15, 20, 25, 30])"
            ]
          },
          "metadata": {},
          "execution_count": 48
        }
      ]
    },
    {
      "cell_type": "code",
      "source": [
        "arr2 = np.arange(1,7)\n",
        "arr2"
      ],
      "metadata": {
        "colab": {
          "base_uri": "https://localhost:8080/"
        },
        "id": "nzMJJjxYINl-",
        "outputId": "ea4adfd3-77da-4a13-f1b6-1c07a4152908"
      },
      "execution_count": 52,
      "outputs": [
        {
          "output_type": "execute_result",
          "data": {
            "text/plain": [
              "array([1, 2, 3, 4, 5, 6])"
            ]
          },
          "metadata": {},
          "execution_count": 52
        }
      ]
    },
    {
      "cell_type": "code",
      "source": [
        "arr1[1].__add__(arr2[1])"
      ],
      "metadata": {
        "colab": {
          "base_uri": "https://localhost:8080/"
        },
        "id": "-GqO2zA8Ibhj",
        "outputId": "543dd231-fc27-48b9-d0dd-70ff0f8fb416"
      },
      "execution_count": 56,
      "outputs": [
        {
          "output_type": "execute_result",
          "data": {
            "text/plain": [
              "12"
            ]
          },
          "metadata": {},
          "execution_count": 56
        }
      ]
    },
    {
      "cell_type": "code",
      "source": [
        "np.add(arr1[1],arr2[1])"
      ],
      "metadata": {
        "colab": {
          "base_uri": "https://localhost:8080/"
        },
        "id": "g_5v4zj5JHIC",
        "outputId": "1914c284-58f5-41ef-ebe0-30485248aa56"
      },
      "execution_count": 57,
      "outputs": [
        {
          "output_type": "execute_result",
          "data": {
            "text/plain": [
              "12"
            ]
          },
          "metadata": {},
          "execution_count": 57
        }
      ]
    },
    {
      "cell_type": "code",
      "source": [
        "arr[1].__sub__(arr2[1])"
      ],
      "metadata": {
        "colab": {
          "base_uri": "https://localhost:8080/"
        },
        "id": "nxonW9S5JiYP",
        "outputId": "dd918633-3739-4334-9dd7-57eb319d9d2e"
      },
      "execution_count": 59,
      "outputs": [
        {
          "output_type": "execute_result",
          "data": {
            "text/plain": [
              "8"
            ]
          },
          "metadata": {},
          "execution_count": 59
        }
      ]
    },
    {
      "cell_type": "code",
      "source": [
        "arr[1].__mul__(arr2[1])"
      ],
      "metadata": {
        "colab": {
          "base_uri": "https://localhost:8080/"
        },
        "id": "BusZVh97JuJh",
        "outputId": "e9e324af-32cd-44a8-881a-da803980dc03"
      },
      "execution_count": 60,
      "outputs": [
        {
          "output_type": "execute_result",
          "data": {
            "text/plain": [
              "20"
            ]
          },
          "metadata": {},
          "execution_count": 60
        }
      ]
    },
    {
      "cell_type": "code",
      "source": [
        "arr[1]/arr2[1]"
      ],
      "metadata": {
        "colab": {
          "base_uri": "https://localhost:8080/"
        },
        "id": "KVwMZseAJ614",
        "outputId": "aaf3bb08-d97d-4d92-ba27-b570f80c5445"
      },
      "execution_count": 64,
      "outputs": [
        {
          "output_type": "execute_result",
          "data": {
            "text/plain": [
              "5.0"
            ]
          },
          "metadata": {},
          "execution_count": 64
        }
      ]
    },
    {
      "cell_type": "code",
      "source": [
        "np.divide(arr1[1],arr2[1])"
      ],
      "metadata": {
        "colab": {
          "base_uri": "https://localhost:8080/"
        },
        "id": "uJniqb42J9RB",
        "outputId": "596a57b0-917a-455e-ba5f-121b1c2562e4"
      },
      "execution_count": 66,
      "outputs": [
        {
          "output_type": "execute_result",
          "data": {
            "text/plain": [
              "5.0"
            ]
          },
          "metadata": {},
          "execution_count": 66
        }
      ]
    },
    {
      "cell_type": "markdown",
      "source": [
        "##0-100 arası rastgele 10 tam sayıdan oluşan bir array oluşturun ve oluşturulan arrayin sum/mean/max/var/std değerlerini inceleyin.\n"
      ],
      "metadata": {
        "id": "v9mA5IEKKY_i"
      }
    },
    {
      "cell_type": "code",
      "source": [
        "arr = np.random.randint(0,100,10)\n",
        "arr"
      ],
      "metadata": {
        "colab": {
          "base_uri": "https://localhost:8080/"
        },
        "id": "-j_l7OthKOBE",
        "outputId": "71a0001d-2c7b-4d0f-e5b9-ec0f234cc9bc"
      },
      "execution_count": 67,
      "outputs": [
        {
          "output_type": "execute_result",
          "data": {
            "text/plain": [
              "array([92, 39, 15, 54, 95, 81, 92, 54,  6, 65])"
            ]
          },
          "metadata": {},
          "execution_count": 67
        }
      ]
    },
    {
      "cell_type": "code",
      "source": [
        "arr.sum()"
      ],
      "metadata": {
        "colab": {
          "base_uri": "https://localhost:8080/"
        },
        "id": "KLBkPhFBKis0",
        "outputId": "5e8f5f9a-3bb1-4992-efb8-325084eb97a2"
      },
      "execution_count": 68,
      "outputs": [
        {
          "output_type": "execute_result",
          "data": {
            "text/plain": [
              "593"
            ]
          },
          "metadata": {},
          "execution_count": 68
        }
      ]
    },
    {
      "cell_type": "code",
      "source": [
        "arr.mean()"
      ],
      "metadata": {
        "colab": {
          "base_uri": "https://localhost:8080/"
        },
        "id": "-ouk436lKlKx",
        "outputId": "700b063e-a96d-415d-a57d-abc750bca777"
      },
      "execution_count": 69,
      "outputs": [
        {
          "output_type": "execute_result",
          "data": {
            "text/plain": [
              "59.3"
            ]
          },
          "metadata": {},
          "execution_count": 69
        }
      ]
    },
    {
      "cell_type": "code",
      "source": [
        "arr.max()"
      ],
      "metadata": {
        "colab": {
          "base_uri": "https://localhost:8080/"
        },
        "id": "Qmoe0URiKmts",
        "outputId": "2ce7060f-03a6-4b00-f7b2-d97e6cc038a2"
      },
      "execution_count": 72,
      "outputs": [
        {
          "output_type": "execute_result",
          "data": {
            "text/plain": [
              "95"
            ]
          },
          "metadata": {},
          "execution_count": 72
        }
      ]
    },
    {
      "cell_type": "code",
      "source": [
        "arr.min()"
      ],
      "metadata": {
        "colab": {
          "base_uri": "https://localhost:8080/"
        },
        "id": "mUvWoN2IKojW",
        "outputId": "85fcfe72-9706-46f1-b891-4b723b0151bf"
      },
      "execution_count": 73,
      "outputs": [
        {
          "output_type": "execute_result",
          "data": {
            "text/plain": [
              "6"
            ]
          },
          "metadata": {},
          "execution_count": 73
        }
      ]
    },
    {
      "cell_type": "code",
      "source": [
        "arr.var()"
      ],
      "metadata": {
        "colab": {
          "base_uri": "https://localhost:8080/"
        },
        "id": "iPdIAlnjKsds",
        "outputId": "4d097507-a835-4637-ae13-fd85d7f8d520"
      },
      "execution_count": 74,
      "outputs": [
        {
          "output_type": "execute_result",
          "data": {
            "text/plain": [
              "918.8100000000001"
            ]
          },
          "metadata": {},
          "execution_count": 74
        }
      ]
    },
    {
      "cell_type": "code",
      "source": [
        "arr.std()"
      ],
      "metadata": {
        "colab": {
          "base_uri": "https://localhost:8080/"
        },
        "id": "v6cnGFEtKuK4",
        "outputId": "79036f76-3522-4830-d98f-5c65208e4132"
      },
      "execution_count": 75,
      "outputs": [
        {
          "output_type": "execute_result",
          "data": {
            "text/plain": [
              "30.31187885961542"
            ]
          },
          "metadata": {},
          "execution_count": 75
        }
      ]
    },
    {
      "cell_type": "markdown",
      "source": [
        "##0-20 arası(20 dahil değil) tam sayılardan oluşan ve 500-530(530 dahil) arası tam sayılardan oluşan 2 array oluşturun. Ardından bu iki array'i concatenate ederek ekrana yazdırın.\n"
      ],
      "metadata": {
        "id": "CeYI5F3jKzbM"
      }
    },
    {
      "cell_type": "code",
      "source": [
        "arr1 = np.arange(0,20)\n",
        "arr1"
      ],
      "metadata": {
        "colab": {
          "base_uri": "https://localhost:8080/"
        },
        "id": "KT1oFs0dKv4k",
        "outputId": "d2b05cf6-279f-4960-a1d1-809d178c6af0"
      },
      "execution_count": 77,
      "outputs": [
        {
          "output_type": "execute_result",
          "data": {
            "text/plain": [
              "array([ 0,  1,  2,  3,  4,  5,  6,  7,  8,  9, 10, 11, 12, 13, 14, 15, 16,\n",
              "       17, 18, 19])"
            ]
          },
          "metadata": {},
          "execution_count": 77
        }
      ]
    },
    {
      "cell_type": "code",
      "source": [
        "arr2 = np.arange(500,531)\n",
        "arr2"
      ],
      "metadata": {
        "colab": {
          "base_uri": "https://localhost:8080/"
        },
        "id": "svBIX6kRLCL-",
        "outputId": "999ad623-3576-4fdb-9757-2bb83c903310"
      },
      "execution_count": 78,
      "outputs": [
        {
          "output_type": "execute_result",
          "data": {
            "text/plain": [
              "array([500, 501, 502, 503, 504, 505, 506, 507, 508, 509, 510, 511, 512,\n",
              "       513, 514, 515, 516, 517, 518, 519, 520, 521, 522, 523, 524, 525,\n",
              "       526, 527, 528, 529, 530])"
            ]
          },
          "metadata": {},
          "execution_count": 78
        }
      ]
    },
    {
      "cell_type": "code",
      "source": [
        "np.concatenate([arr1,arr2], axis=0)\n"
      ],
      "metadata": {
        "colab": {
          "base_uri": "https://localhost:8080/"
        },
        "id": "llr2fTB0LJ-Q",
        "outputId": "b8de6fc3-c31c-48e9-94f1-904811d6cb62"
      },
      "execution_count": 79,
      "outputs": [
        {
          "output_type": "execute_result",
          "data": {
            "text/plain": [
              "array([  0,   1,   2,   3,   4,   5,   6,   7,   8,   9,  10,  11,  12,\n",
              "        13,  14,  15,  16,  17,  18,  19, 500, 501, 502, 503, 504, 505,\n",
              "       506, 507, 508, 509, 510, 511, 512, 513, 514, 515, 516, 517, 518,\n",
              "       519, 520, 521, 522, 523, 524, 525, 526, 527, 528, 529, 530])"
            ]
          },
          "metadata": {},
          "execution_count": 79
        }
      ]
    },
    {
      "cell_type": "markdown",
      "source": [
        "## 15-50(50 dahil) arası tam sayılardan oluşan bir array oluşturun. Daha sonra 10-100 arası(100 dahil) tam sayılardan oluşan 2.bir array oluşturun. Bu 2 arrayi concatanate ederek 3.bir array oluşturun ve bu array'in 25.index ile 50.index'i(50 dahil) arasındaki değerlerini 888 yapın.\n"
      ],
      "metadata": {
        "id": "_SKmVlEKLdRO"
      }
    },
    {
      "cell_type": "code",
      "source": [
        "arr1 = np.arange(15,51)\n",
        "arr1"
      ],
      "metadata": {
        "colab": {
          "base_uri": "https://localhost:8080/"
        },
        "id": "GK2TaIs5LVuq",
        "outputId": "f62ce9d6-43a5-48f1-8730-088c3d23410b"
      },
      "execution_count": 82,
      "outputs": [
        {
          "output_type": "execute_result",
          "data": {
            "text/plain": [
              "array([15, 16, 17, 18, 19, 20, 21, 22, 23, 24, 25, 26, 27, 28, 29, 30, 31,\n",
              "       32, 33, 34, 35, 36, 37, 38, 39, 40, 41, 42, 43, 44, 45, 46, 47, 48,\n",
              "       49, 50])"
            ]
          },
          "metadata": {},
          "execution_count": 82
        }
      ]
    },
    {
      "cell_type": "code",
      "source": [
        "arr2 = np.arange(10,101)\n",
        "arr2"
      ],
      "metadata": {
        "colab": {
          "base_uri": "https://localhost:8080/"
        },
        "id": "Pq7Ie9TfLYim",
        "outputId": "4ec4b213-319d-4e52-d2b5-5e60441025e1"
      },
      "execution_count": 83,
      "outputs": [
        {
          "output_type": "execute_result",
          "data": {
            "text/plain": [
              "array([ 10,  11,  12,  13,  14,  15,  16,  17,  18,  19,  20,  21,  22,\n",
              "        23,  24,  25,  26,  27,  28,  29,  30,  31,  32,  33,  34,  35,\n",
              "        36,  37,  38,  39,  40,  41,  42,  43,  44,  45,  46,  47,  48,\n",
              "        49,  50,  51,  52,  53,  54,  55,  56,  57,  58,  59,  60,  61,\n",
              "        62,  63,  64,  65,  66,  67,  68,  69,  70,  71,  72,  73,  74,\n",
              "        75,  76,  77,  78,  79,  80,  81,  82,  83,  84,  85,  86,  87,\n",
              "        88,  89,  90,  91,  92,  93,  94,  95,  96,  97,  98,  99, 100])"
            ]
          },
          "metadata": {},
          "execution_count": 83
        }
      ]
    },
    {
      "cell_type": "code",
      "source": [
        "arr3 = np.concatenate([arr1,arr2], axis=0)\n",
        "arr3"
      ],
      "metadata": {
        "colab": {
          "base_uri": "https://localhost:8080/"
        },
        "id": "TGubdsSHL6Zp",
        "outputId": "ca045f54-2f53-47b8-e861-2e802782d787"
      },
      "execution_count": 85,
      "outputs": [
        {
          "output_type": "execute_result",
          "data": {
            "text/plain": [
              "array([ 15,  16,  17,  18,  19,  20,  21,  22,  23,  24,  25,  26,  27,\n",
              "        28,  29,  30,  31,  32,  33,  34,  35,  36,  37,  38,  39,  40,\n",
              "        41,  42,  43,  44,  45,  46,  47,  48,  49,  50,  10,  11,  12,\n",
              "        13,  14,  15,  16,  17,  18,  19,  20,  21,  22,  23,  24,  25,\n",
              "        26,  27,  28,  29,  30,  31,  32,  33,  34,  35,  36,  37,  38,\n",
              "        39,  40,  41,  42,  43,  44,  45,  46,  47,  48,  49,  50,  51,\n",
              "        52,  53,  54,  55,  56,  57,  58,  59,  60,  61,  62,  63,  64,\n",
              "        65,  66,  67,  68,  69,  70,  71,  72,  73,  74,  75,  76,  77,\n",
              "        78,  79,  80,  81,  82,  83,  84,  85,  86,  87,  88,  89,  90,\n",
              "        91,  92,  93,  94,  95,  96,  97,  98,  99, 100])"
            ]
          },
          "metadata": {},
          "execution_count": 85
        }
      ]
    },
    {
      "cell_type": "code",
      "source": [
        "arr3[25:51] = 888\n",
        "arr3"
      ],
      "metadata": {
        "colab": {
          "base_uri": "https://localhost:8080/"
        },
        "id": "xu_vRkKpMFz8",
        "outputId": "87462f2f-8726-456b-d065-05f0aaf586e5"
      },
      "execution_count": 89,
      "outputs": [
        {
          "output_type": "execute_result",
          "data": {
            "text/plain": [
              "array([ 15,  16,  17,  18,  19,  20,  21,  22,  23,  24,  25,  26,  27,\n",
              "        28,  29,  30,  31,  32,  33,  34,  35,  36,  37,  38,  39, 888,\n",
              "       888, 888, 888, 888, 888, 888, 888, 888, 888, 888, 888, 888, 888,\n",
              "       888, 888, 888, 888, 888, 888, 888, 888, 888, 888, 888, 888,  25,\n",
              "        26,  27,  28,  29,  30,  31,  32,  33,  34,  35,  36,  37,  38,\n",
              "        39,  40,  41,  42,  43,  44,  45,  46,  47,  48,  49,  50,  51,\n",
              "        52,  53,  54,  55,  56,  57,  58,  59,  60,  61,  62,  63,  64,\n",
              "        65,  66,  67,  68,  69,  70,  71,  72,  73,  74,  75,  76,  77,\n",
              "        78,  79,  80,  81,  82,  83,  84,  85,  86,  87,  88,  89,  90,\n",
              "        91,  92,  93,  94,  95,  96,  97,  98,  99, 100])"
            ]
          },
          "metadata": {},
          "execution_count": 89
        }
      ]
    },
    {
      "cell_type": "markdown",
      "source": [
        "##0-40(40 dahil değil) arası değerlerden oluşan (8,5) shape'inde 2 boyutlu bir array ve  320-360(360 dahil değil) değerlerinden oluşan (8,5) shape'inde 2 boyutlubaşka bir array oluşturun. Devamında bu iki array'i hem axis = 0'da hem de axis = 1'de concatenate ederek farkı karşılaştırın.\n"
      ],
      "metadata": {
        "id": "rwYd73cpMcPE"
      }
    },
    {
      "cell_type": "code",
      "source": [
        "arr1 = np.arange(0,40).reshape(8,5)\n",
        "arr1"
      ],
      "metadata": {
        "colab": {
          "base_uri": "https://localhost:8080/"
        },
        "id": "66669mZ2MP8s",
        "outputId": "74cecbfc-8d45-4191-d990-c5e0dfdb6bac"
      },
      "execution_count": 91,
      "outputs": [
        {
          "output_type": "execute_result",
          "data": {
            "text/plain": [
              "array([[ 0,  1,  2,  3,  4],\n",
              "       [ 5,  6,  7,  8,  9],\n",
              "       [10, 11, 12, 13, 14],\n",
              "       [15, 16, 17, 18, 19],\n",
              "       [20, 21, 22, 23, 24],\n",
              "       [25, 26, 27, 28, 29],\n",
              "       [30, 31, 32, 33, 34],\n",
              "       [35, 36, 37, 38, 39]])"
            ]
          },
          "metadata": {},
          "execution_count": 91
        }
      ]
    },
    {
      "cell_type": "code",
      "source": [
        "arr2 = np.arange(320,360).reshape(8,5)\n",
        "arr2"
      ],
      "metadata": {
        "colab": {
          "base_uri": "https://localhost:8080/"
        },
        "id": "tK5JBNJpMqEH",
        "outputId": "e8185814-7a7d-4fe0-f509-98b94f5ee2fd"
      },
      "execution_count": 92,
      "outputs": [
        {
          "output_type": "execute_result",
          "data": {
            "text/plain": [
              "array([[320, 321, 322, 323, 324],\n",
              "       [325, 326, 327, 328, 329],\n",
              "       [330, 331, 332, 333, 334],\n",
              "       [335, 336, 337, 338, 339],\n",
              "       [340, 341, 342, 343, 344],\n",
              "       [345, 346, 347, 348, 349],\n",
              "       [350, 351, 352, 353, 354],\n",
              "       [355, 356, 357, 358, 359]])"
            ]
          },
          "metadata": {},
          "execution_count": 92
        }
      ]
    },
    {
      "cell_type": "code",
      "source": [
        "arr3 = np.concatenate([arr1,arr2], axis=0)\n",
        "arr3"
      ],
      "metadata": {
        "colab": {
          "base_uri": "https://localhost:8080/"
        },
        "id": "QVbEgg8aMx_x",
        "outputId": "fbcd1fe0-1e0b-4d45-a09f-20ce60335573"
      },
      "execution_count": 93,
      "outputs": [
        {
          "output_type": "execute_result",
          "data": {
            "text/plain": [
              "array([[  0,   1,   2,   3,   4],\n",
              "       [  5,   6,   7,   8,   9],\n",
              "       [ 10,  11,  12,  13,  14],\n",
              "       [ 15,  16,  17,  18,  19],\n",
              "       [ 20,  21,  22,  23,  24],\n",
              "       [ 25,  26,  27,  28,  29],\n",
              "       [ 30,  31,  32,  33,  34],\n",
              "       [ 35,  36,  37,  38,  39],\n",
              "       [320, 321, 322, 323, 324],\n",
              "       [325, 326, 327, 328, 329],\n",
              "       [330, 331, 332, 333, 334],\n",
              "       [335, 336, 337, 338, 339],\n",
              "       [340, 341, 342, 343, 344],\n",
              "       [345, 346, 347, 348, 349],\n",
              "       [350, 351, 352, 353, 354],\n",
              "       [355, 356, 357, 358, 359]])"
            ]
          },
          "metadata": {},
          "execution_count": 93
        }
      ]
    },
    {
      "cell_type": "code",
      "source": [
        "arr3 = np.concatenate([arr1,arr2], axis=1)\n",
        "arr3"
      ],
      "metadata": {
        "colab": {
          "base_uri": "https://localhost:8080/"
        },
        "id": "lLe6ZJxbM5Kv",
        "outputId": "31fd918a-1b53-4f48-e09c-c0d5c89b86d4"
      },
      "execution_count": 94,
      "outputs": [
        {
          "output_type": "execute_result",
          "data": {
            "text/plain": [
              "array([[  0,   1,   2,   3,   4, 320, 321, 322, 323, 324],\n",
              "       [  5,   6,   7,   8,   9, 325, 326, 327, 328, 329],\n",
              "       [ 10,  11,  12,  13,  14, 330, 331, 332, 333, 334],\n",
              "       [ 15,  16,  17,  18,  19, 335, 336, 337, 338, 339],\n",
              "       [ 20,  21,  22,  23,  24, 340, 341, 342, 343, 344],\n",
              "       [ 25,  26,  27,  28,  29, 345, 346, 347, 348, 349],\n",
              "       [ 30,  31,  32,  33,  34, 350, 351, 352, 353, 354],\n",
              "       [ 35,  36,  37,  38,  39, 355, 356, 357, 358, 359]])"
            ]
          },
          "metadata": {},
          "execution_count": 94
        }
      ]
    },
    {
      "cell_type": "markdown",
      "source": [
        "### 9. soru açıklama : concatenate işlemini axis = 1 ve axis = 0 işlemlerini uyguladığımızda axis = 0 işleminde arrayleri alt alta birleştirirken, axis = 1 işleminde arrayleri indexleri yanyana birleştirme işlemi yapmıştır. "
      ],
      "metadata": {
        "id": "JXqwK89tM-PG"
      }
    },
    {
      "cell_type": "markdown",
      "source": [
        "## 9.Soruda oluşturduğunuz 2 array'i axis = 2'de concatenate etmeye çalışın. Ardından axis = 2'de stacklemeye(yığınlamaya) çalışın. İkisi arasındaki farkı karşılaştırın.\n"
      ],
      "metadata": {
        "id": "fH0HWI7MNXUn"
      }
    },
    {
      "cell_type": "code",
      "source": [
        "arr3 = np.concatenate([arr1,arr2], axis=2)\n",
        "arr3"
      ],
      "metadata": {
        "colab": {
          "base_uri": "https://localhost:8080/",
          "height": 217
        },
        "id": "kUa1lrdaM6we",
        "outputId": "0efc904d-8cd3-430a-83c6-50058ec02596"
      },
      "execution_count": 95,
      "outputs": [
        {
          "output_type": "error",
          "ename": "AxisError",
          "evalue": "ignored",
          "traceback": [
            "\u001b[0;31m---------------------------------------------------------------------------\u001b[0m",
            "\u001b[0;31mAxisError\u001b[0m                                 Traceback (most recent call last)",
            "\u001b[0;32m<ipython-input-95-d06567097d03>\u001b[0m in \u001b[0;36m<module>\u001b[0;34m\u001b[0m\n\u001b[0;32m----> 1\u001b[0;31m \u001b[0marr3\u001b[0m \u001b[0;34m=\u001b[0m \u001b[0mnp\u001b[0m\u001b[0;34m.\u001b[0m\u001b[0mconcatenate\u001b[0m\u001b[0;34m(\u001b[0m\u001b[0;34m[\u001b[0m\u001b[0marr1\u001b[0m\u001b[0;34m,\u001b[0m\u001b[0marr2\u001b[0m\u001b[0;34m]\u001b[0m\u001b[0;34m,\u001b[0m \u001b[0maxis\u001b[0m\u001b[0;34m=\u001b[0m\u001b[0;36m2\u001b[0m\u001b[0;34m)\u001b[0m\u001b[0;34m\u001b[0m\u001b[0;34m\u001b[0m\u001b[0m\n\u001b[0m\u001b[1;32m      2\u001b[0m \u001b[0marr3\u001b[0m\u001b[0;34m\u001b[0m\u001b[0;34m\u001b[0m\u001b[0m\n",
            "\u001b[0;32m/usr/local/lib/python3.9/dist-packages/numpy/core/overrides.py\u001b[0m in \u001b[0;36mconcatenate\u001b[0;34m(*args, **kwargs)\u001b[0m\n",
            "\u001b[0;31mAxisError\u001b[0m: axis 2 is out of bounds for array of dimension 2"
          ]
        }
      ]
    },
    {
      "cell_type": "code",
      "source": [
        "arr3 = np.stack([arr1,arr2],axis=2)\n",
        "arr3"
      ],
      "metadata": {
        "colab": {
          "base_uri": "https://localhost:8080/"
        },
        "id": "me2ndcJcNgy2",
        "outputId": "15cc7f14-2998-4e36-aba4-92025136ae86"
      },
      "execution_count": 97,
      "outputs": [
        {
          "output_type": "execute_result",
          "data": {
            "text/plain": [
              "array([[[  0, 320],\n",
              "        [  1, 321],\n",
              "        [  2, 322],\n",
              "        [  3, 323],\n",
              "        [  4, 324]],\n",
              "\n",
              "       [[  5, 325],\n",
              "        [  6, 326],\n",
              "        [  7, 327],\n",
              "        [  8, 328],\n",
              "        [  9, 329]],\n",
              "\n",
              "       [[ 10, 330],\n",
              "        [ 11, 331],\n",
              "        [ 12, 332],\n",
              "        [ 13, 333],\n",
              "        [ 14, 334]],\n",
              "\n",
              "       [[ 15, 335],\n",
              "        [ 16, 336],\n",
              "        [ 17, 337],\n",
              "        [ 18, 338],\n",
              "        [ 19, 339]],\n",
              "\n",
              "       [[ 20, 340],\n",
              "        [ 21, 341],\n",
              "        [ 22, 342],\n",
              "        [ 23, 343],\n",
              "        [ 24, 344]],\n",
              "\n",
              "       [[ 25, 345],\n",
              "        [ 26, 346],\n",
              "        [ 27, 347],\n",
              "        [ 28, 348],\n",
              "        [ 29, 349]],\n",
              "\n",
              "       [[ 30, 350],\n",
              "        [ 31, 351],\n",
              "        [ 32, 352],\n",
              "        [ 33, 353],\n",
              "        [ 34, 354]],\n",
              "\n",
              "       [[ 35, 355],\n",
              "        [ 36, 356],\n",
              "        [ 37, 357],\n",
              "        [ 38, 358],\n",
              "        [ 39, 359]]])"
            ]
          },
          "metadata": {},
          "execution_count": 97
        }
      ]
    },
    {
      "cell_type": "markdown",
      "source": [
        "### Axis = 2 işleminde concatenate işlemi yapılmamaktadır sebebi ise arrayimizin 2 boyutlu olmasıdır. stackleme işleminde her iki arrayin indexlerini karşılıklı olarak alıyor ve yeni indexler oluşturuyor. "
      ],
      "metadata": {
        "id": "d-_n3MpANxCM"
      }
    },
    {
      "cell_type": "markdown",
      "source": [
        "## [1, 20, 25, 4, 4, 5, 4, 4, 1, 6, 9, 12, 1, 5] değerlerinden oluşan bir boyutlu bir array oluşturun. Devamında bu array'in içinde değeri 5'e eşit olan değerlerin indexleri bulun.\n"
      ],
      "metadata": {
        "id": "mJGBuILVOaRy"
      }
    },
    {
      "cell_type": "code",
      "source": [
        "arr = np.array([1, 20, 25, 4, 4, 5, 4, 4, 1, 6, 9, 12, 1, 5])\n",
        "arr"
      ],
      "metadata": {
        "colab": {
          "base_uri": "https://localhost:8080/"
        },
        "id": "Slkt-jE_NssC",
        "outputId": "46404199-d04e-4817-8e60-6d3ad39f511a"
      },
      "execution_count": 100,
      "outputs": [
        {
          "output_type": "execute_result",
          "data": {
            "text/plain": [
              "array([ 1, 20, 25,  4,  4,  5,  4,  4,  1,  6,  9, 12,  1,  5])"
            ]
          },
          "metadata": {},
          "execution_count": 100
        }
      ]
    },
    {
      "cell_type": "code",
      "source": [
        "np.where(arr == 5)"
      ],
      "metadata": {
        "colab": {
          "base_uri": "https://localhost:8080/"
        },
        "id": "z02F-6ScOqjk",
        "outputId": "1f7b845f-b8a8-4650-f526-d998d3ee2e8e"
      },
      "execution_count": 103,
      "outputs": [
        {
          "output_type": "execute_result",
          "data": {
            "text/plain": [
              "(array([ 5, 13]),)"
            ]
          },
          "metadata": {},
          "execution_count": 103
        }
      ]
    },
    {
      "cell_type": "markdown",
      "source": [
        "## Yukarıda oluşturduğunuz array içinde değeri çift olan değerlerin indexlerini bulun."
      ],
      "metadata": {
        "id": "4RoLU3CKP3cL"
      }
    },
    {
      "cell_type": "code",
      "source": [
        "np.where(arr%2 == 0)[0]"
      ],
      "metadata": {
        "colab": {
          "base_uri": "https://localhost:8080/"
        },
        "id": "lnMkJnvRPBew",
        "outputId": "7814f3fd-3c36-477f-c134-d7eece9ccd2e"
      },
      "execution_count": 105,
      "outputs": [
        {
          "output_type": "execute_result",
          "data": {
            "text/plain": [
              "array([ 1,  3,  4,  6,  7,  9, 11])"
            ]
          },
          "metadata": {},
          "execution_count": 105
        }
      ]
    },
    {
      "cell_type": "markdown",
      "source": [
        "##  Yukarıda oluşturduğunuz array içinde değeri 4'den büyük olan değerlerin indexlerini bulun."
      ],
      "metadata": {
        "id": "DZ450GKcQPsb"
      }
    },
    {
      "cell_type": "code",
      "source": [
        "np.where(arr> 4)\n"
      ],
      "metadata": {
        "colab": {
          "base_uri": "https://localhost:8080/"
        },
        "id": "2PIeiacAP_i9",
        "outputId": "a382047a-0033-4da4-9997-1c5475fe6702"
      },
      "execution_count": 110,
      "outputs": [
        {
          "output_type": "execute_result",
          "data": {
            "text/plain": [
              "(array([ 1,  2,  5,  9, 10, 11, 13]),)"
            ]
          },
          "metadata": {},
          "execution_count": 110
        }
      ]
    },
    {
      "cell_type": "markdown",
      "source": [
        "## Yukarıda oluşturduğunuz array içinde değeri 5'e tam bölünen değerlerin indexlerini bulun.\n"
      ],
      "metadata": {
        "id": "6toxx8exQzu9"
      }
    },
    {
      "cell_type": "code",
      "source": [
        "np.where(arr%5 == 0)\n"
      ],
      "metadata": {
        "colab": {
          "base_uri": "https://localhost:8080/"
        },
        "id": "uV8XDlLBQv09",
        "outputId": "92f8400e-aae0-4d2d-9f63-d42521dc2133"
      },
      "execution_count": 109,
      "outputs": [
        {
          "output_type": "execute_result",
          "data": {
            "text/plain": [
              "(array([ 1,  2,  5, 13]),)"
            ]
          },
          "metadata": {},
          "execution_count": 109
        }
      ]
    },
    {
      "cell_type": "markdown",
      "source": [
        "## 85-100(100 dahil) arasından rastgele 1 tam sayı seçin\n"
      ],
      "metadata": {
        "id": "sdGOxcgAQ_9R"
      }
    },
    {
      "cell_type": "code",
      "source": [
        "np.random.randint(85,101)"
      ],
      "metadata": {
        "colab": {
          "base_uri": "https://localhost:8080/"
        },
        "id": "i-j7MElGQ4_Y",
        "outputId": "a4f4ce8e-7c73-48bf-f6ed-25d42cd3043d"
      },
      "execution_count": 111,
      "outputs": [
        {
          "output_type": "execute_result",
          "data": {
            "text/plain": [
              "99"
            ]
          },
          "metadata": {},
          "execution_count": 111
        }
      ]
    },
    {
      "cell_type": "markdown",
      "source": [
        "##İki basamaklı tam sayılar arasından rastgele sayılar seçerek (3,3) shape'inde bir array oluşturun."
      ],
      "metadata": {
        "id": "5NXGv55WRWmh"
      }
    },
    {
      "cell_type": "code",
      "source": [
        "arr = np.random.randint(10,100,size=(3,3))\n",
        "arr"
      ],
      "metadata": {
        "colab": {
          "base_uri": "https://localhost:8080/"
        },
        "id": "XpKQoM58RTMk",
        "outputId": "a84a4fdf-90d7-4b9b-c6d8-b037f7aff317"
      },
      "execution_count": 113,
      "outputs": [
        {
          "output_type": "execute_result",
          "data": {
            "text/plain": [
              "array([[66, 62, 79],\n",
              "       [89, 13, 51],\n",
              "       [91, 27, 73]])"
            ]
          },
          "metadata": {},
          "execution_count": 113
        }
      ]
    },
    {
      "cell_type": "markdown",
      "source": [
        "## 35-60 arasındaki tam sayılardan bir array oluşturun, ardından bu array içinden rastgele 1 tam sayı seçin."
      ],
      "metadata": {
        "id": "vl9VBqCbRokh"
      }
    },
    {
      "cell_type": "code",
      "source": [
        "arr = np.arange(35,60)\n",
        "arr"
      ],
      "metadata": {
        "colab": {
          "base_uri": "https://localhost:8080/"
        },
        "id": "ApK9RqZLRhg-",
        "outputId": "37074a8c-d6ee-4597-ed29-7e7efe94af0d"
      },
      "execution_count": 115,
      "outputs": [
        {
          "output_type": "execute_result",
          "data": {
            "text/plain": [
              "array([35, 36, 37, 38, 39, 40, 41, 42, 43, 44, 45, 46, 47, 48, 49, 50, 51,\n",
              "       52, 53, 54, 55, 56, 57, 58, 59])"
            ]
          },
          "metadata": {},
          "execution_count": 115
        }
      ]
    },
    {
      "cell_type": "code",
      "source": [
        "np.random.choice(arr)"
      ],
      "metadata": {
        "colab": {
          "base_uri": "https://localhost:8080/"
        },
        "id": "9tfvuVqcRyp1",
        "outputId": "db4d4ec8-f717-4709-a4e5-0dcea4d566fb"
      },
      "execution_count": 116,
      "outputs": [
        {
          "output_type": "execute_result",
          "data": {
            "text/plain": [
              "46"
            ]
          },
          "metadata": {},
          "execution_count": 116
        }
      ]
    },
    {
      "cell_type": "markdown",
      "source": [
        "##  Sadece [3, 8, 10, 53] değerlerinden oluşan (2,5) shape'inde 2 boyutlu bir array oluşturun."
      ],
      "metadata": {
        "id": "o2LDNM3jR_Hk"
      }
    },
    {
      "cell_type": "code",
      "source": [
        "arr = np.random.choice([3, 8, 10, 53], size=(2, 5))\n",
        "arr"
      ],
      "metadata": {
        "colab": {
          "base_uri": "https://localhost:8080/"
        },
        "id": "XFoUG78PR3r3",
        "outputId": "39e503f2-f667-4d61-fc16-f2e2dc8095d8"
      },
      "execution_count": 119,
      "outputs": [
        {
          "output_type": "execute_result",
          "data": {
            "text/plain": [
              "array([[ 8, 53, 10, 10,  3],\n",
              "       [53,  3,  8, 53, 53]])"
            ]
          },
          "metadata": {},
          "execution_count": 119
        }
      ]
    },
    {
      "cell_type": "code",
      "source": [
        "#Done.:)"
      ],
      "metadata": {
        "id": "rBorO17JSLEq"
      },
      "execution_count": 121,
      "outputs": []
    },
    {
      "cell_type": "code",
      "source": [],
      "metadata": {
        "id": "2W4c3CGhS8pK"
      },
      "execution_count": null,
      "outputs": []
    }
  ]
}