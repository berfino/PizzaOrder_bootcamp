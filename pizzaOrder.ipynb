{
  "cells": [
    {
      "cell_type": "markdown",
      "metadata": {
        "id": "view-in-github",
        "colab_type": "text"
      },
      "source": [
        "<a href=\"https://colab.research.google.com/github/berfino/PizzaOrder_bootcamp/blob/main/pizzaOrder.ipynb\" target=\"_parent\"><img src=\"https://colab.research.google.com/assets/colab-badge.svg\" alt=\"Open In Colab\"/></a>"
      ]
    },
    {
      "cell_type": "code",
      "execution_count": null,
      "metadata": {
        "id": "KpSqAKupyh0M"
      },
      "outputs": [],
      "source": [
        "import csv\n",
        "import datetime"
      ]
    },
    {
      "cell_type": "markdown",
      "metadata": {
        "id": "Ob4PPbORyn27"
      },
      "source": [
        "__init__ yöntemi, Pizza sınıfının bir örneğini iki parametreyle başlatır: açıklama ve ücret. Bu parametreler, sırasıyla __description ve __cost olmak üzere iki özel örnek değişkeninin değerlerini ayarlamak için kullanılır.\n",
        "\n",
        "get_description yöntemi, özel __description örnek değişkeninin değerini döndüren bir alıcı yöntemidir. Sınıf kullanıcılarının pizzanın açıklamasını almasını sağlar.\n",
        "\n",
        "get_cost yöntemi, özel __cost örnek değişkeninin değerini döndüren bir alıcı yöntemidir. Sınıfın kullanıcılarının pizzanın ücretini almalarını sağlar.\n",
        "\n",
        "Genel olarak, bu kod, bir pizzanın açıklamasını ve ücretini depolamak için özel değişkenlerle bir Pizza sınıfının temel yapısını ve ayrıca bu değerleri almak için alıcı yöntemlerini tanımlar."
      ]
    },
    {
      "cell_type": "code",
      "execution_count": null,
      "metadata": {
        "id": "eUMXrtHQysib"
      },
      "outputs": [],
      "source": [
        "class Pizza:\n",
        "    def __init__(self, description, cost):\n",
        "        self.__description = description\n",
        "        self.__cost = cost\n",
        "    \n",
        "    def get_description(self):\n",
        "        return self.__description\n",
        "    \n",
        "    def get_cost(self):\n",
        "        return self.__cost"
      ]
    },
    {
      "cell_type": "markdown",
      "metadata": {
        "id": "FaQq2S-0e01o"
      },
      "source": [
        "Örnek olarak bir alt sınıf üzerinden Bu kod, Pizza adlı bir sınıftan miras kalan bir KlasikPizza alt sınıfını tanımlar.\n",
        "\n",
        "KlasikPizza'daki __init__ yöntemi, KlasikPizza sınıfının bir örneğini başlatır. İlk önce super() işlevini kullanarak Pizza sınıfının __init__ yöntemini çağırır, ilk bağımsız değişken olarak \"Klasik Pizza\" dizesini ve ikinci bağımsız değişken olarak kayan nokta 8.99'u iletir. Bu, KlasikPizza sınıfı için miras alınan ad ve fiyat özelliklerini başlatır.\n",
        "\n",
        "super() işlevi, bir üst sınıftaki bir yöntemi çağırmak için kullanılır. Bu durumda, Pizza sınıfının __init__ yöntemini çağırır ve ondan miras alınan özellikleri başlatır.\n",
        "\n",
        "Genel olarak, bu kod 8,99 fiyatı olan \"Klasik Pizza\" adlı yeni bir pizza türü yaratıyor."
      ]
    },
    {
      "cell_type": "code",
      "execution_count": null,
      "metadata": {
        "id": "A1m-XC37ymPC"
      },
      "outputs": [],
      "source": [
        "class KlasikPizza(Pizza):\n",
        "    def __init__(self):\n",
        "        super().__init__(\"Klasik Pizza\", 8.99)\n",
        "\n",
        "\n",
        "class MargheritaPizza(Pizza):\n",
        "    def __init__(self):\n",
        "        super().__init__(\"Margherita Pizza\", 9.99)\n",
        "\n",
        "\n",
        "class TurkPizza(Pizza):\n",
        "    def __init__(self):\n",
        "        super().__init__(\"Türk Pizza\", 10.99)\n",
        "\n",
        "\n",
        "class DominosPizza(Pizza):\n",
        "    def __init__(self):\n",
        "        super().__init__(\"Sade Pizza\", 11.99)"
      ]
    },
    {
      "cell_type": "markdown",
      "metadata": {
        "id": "9JzXOnQ3hUpB"
      },
      "source": [
        "Bu kod, bir Pizza nesnesine ek davranış eklemek için kullanılabilecek bir dekoratör sınıfını tanımlar. Dekoratör sınıfı, dekore ettiği Pizza nesnesinin tanımına ve ücretine erişebilir ve orijinal Pizza nesnesini değiştirmeden ona ek davranışlar ekleyebilir."
      ]
    },
    {
      "cell_type": "code",
      "execution_count": null,
      "metadata": {
        "id": "zpdZ8FB8y9Zr"
      },
      "outputs": [],
      "source": [
        "class PizzaDecorator(Pizza):\n",
        "    def __init__(self, pizza):\n",
        "        self._pizza = pizza\n",
        "    \n",
        "    def get_description(self):\n",
        "        return self._pizza.get_description()\n",
        "    \n",
        "    def get_cost(self):\n",
        "        return self._pizza.get_cost()\n"
      ]
    },
    {
      "cell_type": "markdown",
      "metadata": {
        "id": "pdI9Ih-9hlwW"
      },
      "source": [
        "Bu kod, verilen ek ücretle \"sos\" ekleyerek bir pizza nesnesine davranış ekleyen Zeytin,Mantar,Keçi Peyniri,Et, Soğan, Mısır adlı bir dekoratör sınıfını tanımlar. Sos sınıfı, PizzaDecorator sınıfından miras alır ve dekore ettiği pizza nesnesinin açıklamasına ve maliyetine erişmek için onun yöntemlerini kullanır."
      ]
    },
    {
      "cell_type": "code",
      "execution_count": null,
      "metadata": {
        "id": "odJ-enoNzAVa"
      },
      "outputs": [],
      "source": [
        "class Zeytin(PizzaDecorator):\n",
        "    def __init__(self, pizza):\n",
        "        super().__init__(pizza)\n",
        "        self.__description = \"Zeytin\"\n",
        "        self.__cost = 0.5\n",
        "    \n",
        "    def get_description(self):\n",
        "        return self._pizza.get_description() + \" \" + self.__description\n",
        "    \n",
        "    def get_cost(self):\n",
        "        return self._pizza.get_cost() + self.__cost\n",
        "\n",
        "\n",
        "class Mantar(PizzaDecorator):\n",
        "    def __init__(self, pizza):\n",
        "        super().__init__(pizza)\n",
        "        self.__description = \"Mantar\"\n",
        "        self.__cost = 1.0\n",
        "    \n",
        "    def get_description(self):\n",
        "        return self._pizza.get_description() + \" \" + self.__description\n",
        "    \n",
        "    def get_cost(self):\n",
        "        return self._pizza.get_cost() + self.__cost\n",
        "\n",
        "\n",
        "class KeciPeyniri(PizzaDecorator): \n",
        "    def __init__(self, pizza):\n",
        "        super().__init__(pizza)\n",
        "        self.__description = \"Keçi Peyniri\"\n",
        "        self.__cost = 2.0\n",
        "    \n",
        "    def get_description(self):\n",
        "        return self._pizza.get_description() + \" \" + self.__description\n",
        "    \n",
        "    def get_cost(self):\n",
        "        return self._pizza.get_cost() + self.__cost\n",
        "\n",
        "\n",
        "class Et(PizzaDecorator):\n",
        "    def __init__(self, pizza):\n",
        "        super().__init__(pizza)\n",
        "        self.__description = \"Et\"\n",
        "        self.__cost = 2.5\n",
        "    \n",
        "    def get_description(self):\n",
        "        return self._pizza.get_description() + \" \" + self.__description\n",
        "    \n",
        "    def get_cost(self):\n",
        "        return self._pizza.get_cost() + self.__cost\n",
        "\n",
        "\n",
        "class Sogan(PizzaDecorator):\n",
        "    def __init__(self, pizza):\n",
        "        super().__init__(pizza)\n",
        "        self.__description = \"Soğan\"\n",
        "        self.__cost = 0.5\n",
        "    \n",
        "    def get_description(self):\n",
        "        return self._pizza.get_description() + \" \" + self.__description\n",
        "    \n",
        "    def get_cost(self):\n",
        "        return self._pizza.get_cost() + self.__cost\n",
        "\n",
        "\n",
        "class Misir(PizzaDecorator):\n",
        "    def __init__(self, pizza):\n",
        "        super().__init__(pizza)\n",
        "        self.__description = \"Mısır\"\n",
        "        self.__cost = 1.0\n",
        "    \n",
        "    def get_description(self):\n",
        "        return self._pizza.get_description() + \" \" + self.__description\n",
        "    \n",
        "    def get_cost(self):\n",
        "        return self._pizza.get_cost() + self.__cost"
      ]
    },
    {
      "cell_type": "markdown",
      "metadata": {
        "id": "vdms1tDyiHzs"
      },
      "source": [
        "Hesaplama yöntemi, kullanıcı tarafından seçilen pizza tabanı ve sos türünü temsil eden pizzaTabani ve pizzaSos olmak üzere iki parametre alır. pizzaTabani'nin değerine bağlı olarak bir pizza sınıfı örneği (KlasikPizza, MargheritaPizza, TurkPizza veya DominosPizza) oluşturur ve bunu my_pizza değişkeninde saklar.\n",
        "\n",
        "Ardından, pizzaya hangi pizza malzemesinin ekleneceğini belirlemek için pizzaSos'un değerini kontrol eder. Bir sos seçilirse, ilgili sos sınıfından (Zeytin, Mantar, KeciPeyniri, Et, Sogan veya Mısır) bir dekoratör nesnesi oluşturur ve my_pizza'da argüman olarak iletir. Elde edilen dekore edilmiş pizza my_pizza'da saklanır.\n",
        "\n",
        "Son olarak, yöntem, get_description ve get_cost yöntemlerini kullanarak dekore edilmiş pizzanın açıklamasını ve ücretini alır ve bunları (description, cost) demeti olarak döndürür."
      ]
    },
    {
      "cell_type": "markdown",
      "metadata": {
        "id": "BoTUU5ocjJvA"
      },
      "source": [
        "Bu işlemi yaparken match case kullanılabilir fakat benim sürümüm 3.10'dan eski olduğu için if yapısını kullanarak yaptım. "
      ]
    },
    {
      "cell_type": "code",
      "execution_count": null,
      "metadata": {
        "id": "WdX_Y4pwzJZN"
      },
      "outputs": [],
      "source": [
        "class Result:\n",
        "      def calculate(pizzaTabani,pizzaSos):\n",
        "            if pizzaTabani == 1:\n",
        "              my_pizza = KlasikPizza()\n",
        "            elif pizzaTabani == 2:\n",
        "              my_pizza = MargheritaPizza()\n",
        "            elif pizzaTabani == 3:\n",
        "              my_pizza = TurkPizza()\n",
        "            elif pizzaTabani == 4:\n",
        "              my_pizza = DominosPizza()\n",
        "    \n",
        "            print(f\"Açıklama: {my_pizza.get_description()}\")\n",
        "            print(f\"Sossuz Ücret: {my_pizza.get_cost()} TL\\n\")\n",
        "    \n",
        "\n",
        "            if pizzaSos == 11:\n",
        "              my_pizza = Zeytin(my_pizza)\n",
        "            elif pizzaSos == 12:\n",
        "              my_pizza = Mantar(my_pizza)\n",
        "            elif pizzaSos == 13:\n",
        "              my_pizza = KeciPeyniri(my_pizza)\n",
        "            elif pizzaSos == 14:\n",
        "             my_pizza = Et(my_pizza)\n",
        "            elif pizzaSos == 15:\n",
        "             my_pizza = Sogan(my_pizza)\n",
        "            elif pizzaSos == 16:\n",
        "             my_pizza = Misir(my_pizza)\n",
        "\n",
        "            description=my_pizza.get_description()\n",
        "            cost=my_pizza.get_cost()\n",
        "            \n",
        "            return description,cost\n",
        "            "
      ]
    },
    {
      "cell_type": "markdown",
      "metadata": {
        "id": "ji-k2bMfjlIa"
      },
      "source": [
        "Bu kod, kullanıcıdan adını, kimlik numarasını, kredi kartı numarasını ve kredi kartı şifresini girmesini isteyen CustomerInfo adlı bir işlevi tanımlar. Daha sonra bu değerleri bir (ad, Kimlik, CC, CCPassword) demeti olarak döndürür.\n",
        "\n",
        "Bu işlevin amacı, bir pizza siparişi sırasında ödeme işlemi için kullanılacak müşteri bilgilerini toplamaktır. \n",
        "\n",
        "*Ancak, kredi kartı numaraları ve şifreler gibi hassas bilgilerin düz metin olarak saklanmasının güvenli olmadığını ve üretim kodunda yapılmaması gerektiğini unutmamak önemlidir. Gerçek dünya senaryosunda, bu bilgiler şifrelenmeli ve güvenli bir şekilde saklanmalıdır.*"
      ]
    },
    {
      "cell_type": "code",
      "execution_count": null,
      "metadata": {
        "id": "jzY9tNkszKbZ"
      },
      "outputs": [],
      "source": [
        "def CustomerInfo():\n",
        "    name=input(\"İsminiz :\")\n",
        "    Id=input(\"TC kimlik numarası :\")\n",
        "    CC=input(\"kredi kartı numarası :\")\n",
        "    CCPassword=input(\"kredi kartı şifresi :\")\n",
        "    return name,Id,CC,CCPassword"
      ]
    },
    {
      "cell_type": "markdown",
      "metadata": {
        "id": "t3Y4m6rjkgp3"
      },
      "source": [
        "Bu kod, bir CSV dosyasına veri yazan write_data_to_csv adlı bir işlevi tanımlar.\n",
        "\n",
        "İşlev üzerine yazılacak CSV dosyasının adı olan dosya adı ve dosyaya yazılacak verileri içeren bir sözlük olan data olarak iki parametre içerir.\n",
        "\n",
        "İşlev, dosyayı ekleme modunda açar ve veri sözlüğünün tuşlarını CSV dosyası için alan adları olarak kullanarak bir DictWriter nesnesi oluşturur. Daha sonra dosya nesnesinin tell() yöntemini kullanarak dosyanın boş olup olmadığını kontrol eder. Dosya boşsa, başlık satırını DictWriter nesnesinin writeheader() yöntemini kullanarak yazar.\n",
        "\n",
        "işlev, DictWriter nesnesinin writerow() yöntemini kullanarak verileri CSV dosyasına yazar."
      ]
    },
    {
      "cell_type": "code",
      "execution_count": null,
      "metadata": {
        "id": "kXkAGuxGzNuV"
      },
      "outputs": [],
      "source": [
        "def write_data_to_csv(filename, data):\n",
        "        with open(filename, mode='a', newline='') as file:\n",
        "            writer = csv.DictWriter(file, fieldnames=data.keys())\n",
        "            if file.tell() == 0:\n",
        "                writer.writeheader() # dosya boşsa başlık yaz\n",
        "            writer.writerow(data)"
      ]
    },
    {
      "cell_type": "markdown",
      "metadata": {
        "id": "KbBEVZZclCKM"
      },
      "source": [
        "İlk olarak, işlev Menu.txt dosyasını açar ve bir while döngüsü ve file nesnesinin readline() yöntemini kullanarak içeriğini konsola yazdırır.\n",
        "\n",
        "Ardından işlev, kullanıcının girdisini bir tamsayı olarak okumak için input() işlevini kullanarak kullanıcıdan bir pizza tabanı ve bir sos seçmesini ister.\n",
        "\n",
        "İşlev daha sonra, seçilen pizza tabanı ve sos ile Result sınıfının hesapla() yöntemini bağımsız değişken olarak çağırır. Bu yöntem, seçilen pizzanın tanımını ve ücretini, açıklama ve ücret değişkenlerine atanan dizeler olarak döndürür.\n",
        "\n",
        "İşlev daha sonra kullanıcıdan adını, kimliğini, kredi kartı numarasını ve kredi kartı parolasını istemek için CustomerInfo() işlevini çağırır. Bu değerler sırasıyla name, Id, CC ve CCPassword değişkenlerine atanır.\n",
        "\n",
        "İşlev daha sonra pizza açıklamasını, müşteri adını, kimliği, kredi kartı numarasını, ücreti, sipariş süresini ve kredi kartı şifresini içeren veriler adlı bir sözlük oluşturur. Bu sözlük, verileri bir CSV dosyasına yazan write_data_to_csv() işlevine iletilir.\n",
        "\n",
        "Son olarak işlev, siparişin tamamlandığını belirten bir mesaj yazdırır."
      ]
    },
    {
      "cell_type": "markdown",
      "metadata": {
        "id": "vXqM1xymn3qu"
      },
      "source": [
        "Menu.txt dosyasını drive üzerine yükleyerek ulaşabiliyorum. Daha hızlı ve kolay bir yönteme ulaşamadım. "
      ]
    },
    {
      "cell_type": "code",
      "execution_count": null,
      "metadata": {
        "id": "xQ-OgUmBzO6j"
      },
      "outputs": [],
      "source": [
        "def main():\n",
        "  #Menu.txt dosyasının yolunu belirtiniz.\n",
        "    with open(\"/content/drive/MyDrive/Colab Notebooks/Menu.txt\", 'r', encoding='UTF-8') as file:\n",
        "        while (line := file.readline().rstrip()):\n",
        "            print(line)\n",
        "\n",
        "    pizzaTabani = int(input(\"Lütfen Bir Pizza Tabanı Seçin:\"))\n",
        "    pizzaSos = int(input(\"ve seçeceğiniz sos:\"))\n",
        "\n",
        "    description,cost=Result.calculate(pizzaTabani,pizzaSos)\n",
        "\n",
        "    print(\"Açıklama\",description,\"Ücret\",cost)\n",
        "\n",
        "    \n",
        "    name,Id,CC,CCPassword=CustomerInfo()\n",
        "    data={'Pizza':description,'İsim':name , 'TC Kimlik':Id,'Kredi Kartı':CC,'Ücret':f\"{cost}TL\",'Sipariş Zamanı':datetime.datetime.today(),'Kredi Kartı Şifresi':CCPassword}\n",
        "    write_data_to_csv(\"/content/drive/MyDrive/Colab Notebooks/Orders_Database.csv\",data)\n",
        "\n",
        "    print(\"İşleminiz Tamamlandı, AFİYET OLSUN!\")"
      ]
    },
    {
      "cell_type": "markdown",
      "metadata": {
        "id": "aK553z9OlO-8"
      },
      "source": [
        "Program, main() işlevini yalnızca komut dosyası başka bir komut dosyasına bir modül olarak içe aktarılmak yerine doğrudan çalıştırılıyorsa yürütür. Bunun nedeni, özel __name__ değişkeninin içe aktarılan herhangi bir modül için değil, yalnızca yürütülen komut dosyası için '__main__' olarak ayarlanmasıdır."
      ]
    },
    {
      "cell_type": "code",
      "execution_count": null,
      "metadata": {
        "id": "mn4rdM8dzTL3"
      },
      "outputs": [],
      "source": [
        "if __name__ == '__main__':\n",
        "    \n",
        "    main()"
      ]
    }
  ],
  "metadata": {
    "colab": {
      "provenance": [],
      "mount_file_id": "1Ua4ZcXYFPW5LNyKA53B3b8KO6PQmrGyr",
      "authorship_tag": "ABX9TyPjs7MO0uKyN4SzUjDnF3nI",
      "include_colab_link": true
    },
    "kernelspec": {
      "display_name": "Python 3",
      "name": "python3"
    },
    "language_info": {
      "name": "python"
    }
  },
  "nbformat": 4,
  "nbformat_minor": 0
}